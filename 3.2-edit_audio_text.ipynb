{
 "cells": [
  {
   "cell_type": "code",
   "execution_count": 1,
   "metadata": {},
   "outputs": [],
   "source": [
    "import os\n",
    "import glob\n",
    "\n",
    "from util import get_file,text_to_speech_and_save\n",
    "from config.app import PROJECT_NAME,\\\n",
    "    TRANSCRIPT_FOLDER,TRANSLATED_FOLDER,\\\n",
    "    TRANSLATED_PROCESSED_FOLDER, APP,TMP,SPEECH_KEY,\\\n",
    "    SPEECH_REGION,SPEECH_VOICE, AUDIO_FOLDER,AUDIO_FILENAME, TEXT_FILENAME\n",
    "\n",
    "#############\n",
    "\n",
    "# Transcript Folder\n",
    "transcript_folder = os.path.join(APP, PROJECT_NAME,TRANSCRIPT_FOLDER)\n",
    "\n",
    "# Translated Folder\n",
    "translated_folder = os.path.join(APP, PROJECT_NAME,TRANSLATED_FOLDER)\n",
    "\n",
    "# Tmp Translated Folder\n",
    "tmp_translated_folder = os.path.join(TMP, PROJECT_NAME,TRANSLATED_FOLDER)\n",
    "\n",
    "# Translated Processed Folder\n",
    "translated_processed_folder = os.path.join(TMP, PROJECT_NAME,TRANSLATED_PROCESSED_FOLDER)\n",
    "os.makedirs(translated_processed_folder, exist_ok=True)\n",
    "\n",
    "audio_folder = os.path.join(APP, PROJECT_NAME, AUDIO_FOLDER)\n",
    "os.makedirs(audio_folder, exist_ok=True)\n",
    "\n",
    "#############\n",
    "\n",
    "def get_file_by_ids(input_file_paths, folder_id, file_id):\n",
    "    target_files = [\n",
    "                    input_file_path for input_file_path \\\n",
    "                        in input_file_paths \\\n",
    "                            if os.path.basename(input_file_path).startswith(f'{folder_id:03}_{file_id:04}_')\n",
    "                            ]\n",
    "    return target_files[0] if target_files else None"
   ]
  },
  {
   "cell_type": "markdown",
   "metadata": {},
   "source": [
    "## Choose"
   ]
  },
  {
   "cell_type": "code",
   "execution_count": 10,
   "metadata": {},
   "outputs": [
    {
     "data": {
      "text/plain": [
       "'Velmond o Grande saca sua espada e corta a todos os demônios à sua frente, emitindo uma luz intensa ao fazer isso, Só de ver a cor do cabelo dele, já sabemos que ele é foda, Todo personagem de cabelo branco é o Top, a não ser que seja um véio'"
      ]
     },
     "execution_count": 10,
     "metadata": {},
     "output_type": "execute_result"
    }
   ],
   "source": [
    "# Folder\n",
    "folder_id =0\n",
    "# File\n",
    "file_id = 4\n",
    "\n",
    "input_file_paths = [path for path in glob.glob(translated_folder + '/**', recursive=True) if os.path.isfile(path)]\n",
    "\n",
    "#####\n",
    "input_file_path = get_file_by_ids(input_file_paths, folder_id, file_id)\n",
    "output_file_path = input_file_path\n",
    "\n",
    "#\n",
    "content = get_file(input_file_path)\n",
    "output_file_path\n",
    "\n",
    "content\n"
   ]
  },
  {
   "cell_type": "code",
   "execution_count": 11,
   "metadata": {},
   "outputs": [
    {
     "data": {
      "text/plain": [
       "'Velmond o Grande saca sua espada e corta a todos os demônios à sua frente, emitindo uma luz intensa ao fazer isso, Só de ver a cor do cabelo dele, já sabemos que ele é foda, Todo personagem de cabelo branco é o Top, a não ser que seja um véio'"
      ]
     },
     "execution_count": 11,
     "metadata": {},
     "output_type": "execute_result"
    }
   ],
   "source": [
    "new_contet = content.replace(\n",
    "    content,\n",
    "    content,\n",
    "    )\n",
    "new_contet"
   ]
  },
  {
   "cell_type": "code",
   "execution_count": 12,
   "metadata": {},
   "outputs": [
    {
     "data": {
      "text/plain": [
       "['Velmond o Grande saca sua espada e corta a todos os demônios à sua frente, emitindo uma luz intensa ao fazer isso, Só de ver a cor do cabelo dele, já sabemos que ele é foda, Todo personagem de cabelo branco é o Top, a não ser que seja um véio']"
      ]
     },
     "execution_count": 12,
     "metadata": {},
     "output_type": "execute_result"
    }
   ],
   "source": [
    "audio_dir = os.path.join(audio_folder, str(folder_id))\n",
    "text_dir = os.path.join(translated_folder, str(folder_id))\n",
    "sentences = [s for s in new_contet.split('.') if s] \n",
    "sentences"
   ]
  },
  {
   "cell_type": "code",
   "execution_count": 13,
   "metadata": {},
   "outputs": [
    {
     "name": "stdout",
     "output_type": "stream",
     "text": [
      "Speech synthesized for text [Velmond o Grande saca sua espada e corta a todos os demônios à sua frente, emitindo uma luz intensa ao fazer isso, Só de ver a cor do cabelo dele, já sabemos que ele é foda, Todo personagem de cabelo branco é o Top, a não ser que seja um véio]\n",
      "Velmond o Grande saca sua espada e corta a todos os demônios à sua frente, emitindo uma luz intensa ao fazer isso, Só de ver a cor do cabelo dele, já sabemos que ele é foda, Todo personagem de cabelo branco é o Top, a não ser que seja um véio\n"
     ]
    },
    {
     "ename": "",
     "evalue": "",
     "output_type": "error",
     "traceback": [
      "\u001b[1;31mThe Kernel crashed while executing code in the the current cell or a previous cell. Please review the code in the cell(s) to identify a possible cause of the failure. Click <a href='https://aka.ms/vscodeJupyterKernelCrash'>here</a> for more info. View Jupyter <a href='command:jupyter.viewOutput'>log</a> for further details."
     ]
    }
   ],
   "source": [
    "audio_dir = os.path.join(audio_folder, str(folder_id))\n",
    "text_dir = os.path.join(translated_folder, str(folder_id))\n",
    "\n",
    "sentences = [s for s in new_contet.split('.') if s] \n",
    "\n",
    "for part_id, sentence in enumerate(sentences):\n",
    "    # Create Audio\n",
    "    output_audio_name = '{:03}_{:03}_{:03}_{}_{}'.format(folder_id, file_id, part_id,'related', AUDIO_FILENAME)\n",
    "    output_audio_path = os.path.join(audio_dir, output_audio_name)\n",
    "    text_to_speech_and_save(SPEECH_KEY, SPEECH_REGION, SPEECH_VOICE, output_audio_path, sentence)\n",
    "\n",
    "    # Edit file\n",
    "    output_text_name  = '{:03}_{:03}_{:03}_{}_{}'.format(folder_id, file_id, part_id,'related', TEXT_FILENAME)\n",
    "    output_text_path = os.path.join(text_dir, output_text_name)\n",
    "    with open(output_text_path, 'w', encoding='utf-8') as f:\n",
    "        f.write(sentence)\n",
    "    \n",
    "    # Print\n",
    "    print(\n",
    "        get_file(output_text_path)\n",
    "    )\n"
   ]
  }
 ],
 "metadata": {
  "kernelspec": {
   "display_name": "venv-mhw",
   "language": "python",
   "name": "python3"
  },
  "language_info": {
   "codemirror_mode": {
    "name": "ipython",
    "version": 3
   },
   "file_extension": ".py",
   "mimetype": "text/x-python",
   "name": "python",
   "nbconvert_exporter": "python",
   "pygments_lexer": "ipython3",
   "version": "3.11.5"
  },
  "orig_nbformat": 4
 },
 "nbformat": 4,
 "nbformat_minor": 2
}
