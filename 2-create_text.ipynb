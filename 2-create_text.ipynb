{
 "cells": [
  {
   "cell_type": "code",
   "execution_count": null,
   "metadata": {},
   "outputs": [],
   "source": [
    "import os\n",
    "\n",
    "from openai import OpenAI\n",
    "from dotenv import dotenv_values\n",
    "from util import get_file\n",
    "from pathlib import Path\n",
    "from config.app import PROJECT_NAME,YOUTUBE_URL, MAX_TOKENS,MODEL,OPENAI_KEY, TRANSCRIPT_FOLDER,TRANSLATED_FOLDER,APP,TMP\n",
    "\n",
    "# Transcript Folder\n",
    "transcript_folder = os.path.join(APP, PROJECT_NAME,TRANSCRIPT_FOLDER)\n",
    "os.makedirs(transcript_folder, exist_ok=True)\n",
    "\n",
    "# Translated Folder\n",
    "translated_folder = os.path.join(APP, PROJECT_NAME,TRANSLATED_FOLDER)\n",
    "os.makedirs(translated_folder, exist_ok=True)\n",
    "\n",
    "# Tmp Translated Folder\n",
    "tmp_translated_folder = os.path.join(TMP, PROJECT_NAME,TRANSLATED_FOLDER)\n",
    "os.makedirs(tmp_translated_folder, exist_ok=True)"
   ]
  },
  {
   "cell_type": "code",
   "execution_count": 12,
   "metadata": {},
   "outputs": [],
   "source": [
    "folder_id = 4\n",
    "\n",
    "input_filename = f'{folder_id:03}_{PROJECT_NAME}.md'\n",
    "output_filename = input_filename\n",
    "content = get_file(transcript_folder, input_filename)\n",
    "content\n"
   ]
  },
  {
   "cell_type": "code",
   "execution_count": 15,
   "metadata": {},
   "outputs": [],
   "source": [
    "prompt = {\n",
    "    \"model\": MODEL,\n",
    "    \"max_tokens\": int(MAX_TOKENS),\n",
    "    \"temperature\": 0.7,\n",
    "    \"messages\": [{\n",
    "      \"role\": \"user\",\n",
    "      \"content\": \"\"\"\n",
    "        Por favor, traduza o texto após a palavra Texto: do inglês para o português. Siga as instruções abaixo:\n",
    "\n",
    "        Melhore o texto para que faça sentido em português.\n",
    "        Garanta que os nomes dos personagens sejam consistentes ao longo do texto.\n",
    "        Certifique-se de que as ideias se conectem de forma lógica e fluida.\n",
    "        Corrija quaisquer erros gramaticais ou de ortografia.\n",
    "        Corrija a pontuação do texto.\n",
    "        Mantenha uma sequência contínua entre os textos.\n",
    "        O público-alvo são garotas de 16 a 28 anos.\n",
    "        Use um tom informal.\n",
    "        O estilo de escrita deve ser sedutor, porém leve.\n",
    "        Mantenha o tamanho próximo ao original (95% até a 110%).\n",
    "        Apenas texto melhorado, sem comentários extras.\n",
    "        Os textos serão usados como roteiro para vídeo narrado no YouTube.\n",
    "\n",
    "        **Texto:**\n",
    "\n",
    "      \"\"\" + content\n",
    "    }]\n",
    "}"
   ]
  },
  {
   "cell_type": "code",
   "execution_count": null,
   "metadata": {},
   "outputs": [],
   "source": [
    "client = OpenAI(api_key=OPENAI_KEY)\n",
    "response = client.chat.completions.create(\n",
    "    model=prompt[\"model\"],\n",
    "    messages=prompt[\"messages\"],\n",
    "    max_tokens=prompt[\"max_tokens\"],\n",
    "    temperature=prompt[\"temperature\"]\n",
    ")\n",
    "res = response.choices[0].message.content\n",
    "res "
   ]
  },
  {
   "cell_type": "code",
   "execution_count": null,
   "metadata": {},
   "outputs": [],
   "source": [
    "new_res = res.replace('\\n', '')\n",
    "new_content = '.\\n\\n'.join(new_res.split('.')) + '.'\n",
    "Path(os.path.join(tmp_translated_folder, output_filename)).write_text(new_content,encoding='utf-8')\n",
    "new_content"
   ]
  }
 ],
 "metadata": {
  "kernelspec": {
   "display_name": "venv-mhw",
   "language": "python",
   "name": "python3"
  },
  "language_info": {
   "codemirror_mode": {
    "name": "ipython",
    "version": 3
   },
   "file_extension": ".py",
   "mimetype": "text/x-python",
   "name": "python",
   "nbconvert_exporter": "python",
   "pygments_lexer": "ipython3",
   "version": "3.11.5"
  },
  "orig_nbformat": 4
 },
 "nbformat": 4,
 "nbformat_minor": 2
}
