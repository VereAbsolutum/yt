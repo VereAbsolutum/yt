{
 "cells": [
  {
   "cell_type": "code",
   "execution_count": 1,
   "metadata": {},
   "outputs": [],
   "source": [
    "import os\n",
    "from config.app import PROJECT_NAME, YOUTUBE_URL,APP,TRANSCRIPT_FOLDER,\\\n",
    "TRANSLATED_FOLDER, TMP, TRANSLATED_PROCESSED_FOLDER,TMP_IMAGE_FOLDER,\\\n",
    "AUDIO_FOLDER,IMAGE_FOLDER_DOWNLOAD\n",
    "  \n"
   ]
  },
  {
   "cell_type": "code",
   "execution_count": 2,
   "metadata": {},
   "outputs": [
    {
     "ename": "",
     "evalue": "",
     "output_type": "error",
     "traceback": [
      "\u001b[1;31mThe Kernel crashed while executing code in the the current cell or a previous cell. Please review the code in the cell(s) to identify a possible cause of the failure. Click <a href='https://aka.ms/vscodeJupyterKernelCrash'>here</a> for more info. View Jupyter <a href='command:jupyter.viewOutput'>log</a> for further details."
     ]
    }
   ],
   "source": [
    "###########################################\n",
    "## Text\n",
    "\n",
    "# Transcript Folder\n",
    "transcript_folder = os.path.join(APP, PROJECT_NAME,TRANSCRIPT_FOLDER)\n",
    "os.makedirs(transcript_folder, exist_ok=True)\n",
    "\n",
    "# Translated Folder\n",
    "translated_folder = os.path.join(APP, PROJECT_NAME,TRANSLATED_FOLDER)\n",
    "os.makedirs(translated_folder, exist_ok=True)\n",
    "\n",
    "# Translated Processed Folder\n",
    "translated_processed_folder = os.path.join(TMP, PROJECT_NAME,TRANSLATED_PROCESSED_FOLDER)\n",
    "os.makedirs(translated_processed_folder, exist_ok=True)\n",
    "\n",
    "###########################################\n",
    "## Audio\n",
    "\n",
    "# Audio folder\n",
    "audio_folder = os.path.join(APP, PROJECT_NAME, AUDIO_FOLDER)\n",
    "os.makedirs(audio_folder, exist_ok=True)\n",
    "\n",
    "###########################################\n",
    "## Image\n",
    "\n",
    "# tmp image folder\n",
    "tmp_image_download_folder = os.path.join(TMP, PROJECT_NAME, IMAGE_FOLDER_DOWNLOAD)\n",
    "os.makedirs(tmp_image_download_folder, exist_ok=True)\n",
    "\n",
    "tmp_image_folder = os.path.join(TMP, PROJECT_NAME, TMP_IMAGE_FOLDER)\n",
    "os.makedirs(tmp_image_folder, exist_ok=True)\n"
   ]
  }
 ],
 "metadata": {
  "kernelspec": {
   "display_name": "venv-mhw",
   "language": "python",
   "name": "python3"
  },
  "language_info": {
   "codemirror_mode": {
    "name": "ipython",
    "version": 3
   },
   "file_extension": ".py",
   "mimetype": "text/x-python",
   "name": "python",
   "nbconvert_exporter": "python",
   "pygments_lexer": "ipython3",
   "version": "3.11.5"
  },
  "orig_nbformat": 4
 },
 "nbformat": 4,
 "nbformat_minor": 2
}
