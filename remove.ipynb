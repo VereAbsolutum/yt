{
 "cells": [
  {
   "cell_type": "code",
   "execution_count": 1,
   "metadata": {},
   "outputs": [],
   "source": [
    "from util import Remove\n",
    "import os\n",
    "from dotenv import dotenv_values"
   ]
  },
  {
   "cell_type": "code",
   "execution_count": 2,
   "metadata": {},
   "outputs": [],
   "source": [
    "env = dotenv_values()\n",
    "TMP, PROJECT_NAME,IMAGE_DONWLOAD = 'tmp', env.get('PROJECT_NAME').replace(' ','-'), 'image_download'"
   ]
  },
  {
   "cell_type": "code",
   "execution_count": 3,
   "metadata": {},
   "outputs": [],
   "source": [
    "Remove.remove_images()"
   ]
  },
  {
   "cell_type": "code",
   "execution_count": 4,
   "metadata": {},
   "outputs": [],
   "source": [
    "end = len(os.listdir(os.path.join(TMP, PROJECT_NAME,IMAGE_DONWLOAD)))\n",
    "for i in range(0, end, 1):\n",
    "    i_str = str(i + 1)\n",
    "    Remove.remove_downloads(i_str)"
   ]
  }
 ],
 "metadata": {
  "kernelspec": {
   "display_name": "venv-mhw",
   "language": "python",
   "name": "python3"
  },
  "language_info": {
   "codemirror_mode": {
    "name": "ipython",
    "version": 3
   },
   "file_extension": ".py",
   "mimetype": "text/x-python",
   "name": "python",
   "nbconvert_exporter": "python",
   "pygments_lexer": "ipython3",
   "version": "3.11.5"
  },
  "orig_nbformat": 4
 },
 "nbformat": 4,
 "nbformat_minor": 2
}
