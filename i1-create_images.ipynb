{
 "cells": [
  {
   "cell_type": "code",
   "execution_count": 6,
   "metadata": {},
   "outputs": [
    {
     "data": {
      "text/plain": [
       "'tmp\\\\Damn-Reincarnation\\\\image_download'"
      ]
     },
     "execution_count": 6,
     "metadata": {},
     "output_type": "execute_result"
    }
   ],
   "source": [
    "import os\n",
    "\n",
    "from dotenv import dotenv_values\n",
    "from util import download_images_from_url\n",
    "\n",
    "from config.app import IMG_URL,PROJECT_NAME, IMAGE_FILENAME, TMP, IMAGE_FOLDER_DOWNLOAD,TMP_IMAGE_FOLDER_DOWNLOAD\n",
    "\n",
    "tmp_image_download_folder = os.path.join(TMP, PROJECT_NAME, IMAGE_FOLDER_DOWNLOAD)\n",
    "os.makedirs(tmp_image_download_folder, exist_ok=True)\n",
    "\n",
    "tmp_download_folder = os.path.join(TMP, PROJECT_NAME, TMP_IMAGE_FOLDER_DOWNLOAD)\n",
    "tmp_download_folder"
   ]
  },
  {
   "cell_type": "code",
   "execution_count": 10,
   "metadata": {},
   "outputs": [
    {
     "data": {
      "text/plain": [
       "['1']"
      ]
     },
     "execution_count": 10,
     "metadata": {},
     "output_type": "execute_result"
    }
   ],
   "source": [
    "input_filepaths = sorted(os.listdir(tmp_download_folder), key=lambda filepath: (int(os.path.basename(filepath)) if os.path.basename(filepath) != '10' else float('inf')))\n",
    "begin = 2\n",
    "end = len(input_filepaths)\n",
    "end = 10\n",
    "input_filepaths"
   ]
  },
  {
   "cell_type": "code",
   "execution_count": 11,
   "metadata": {},
   "outputs": [
    {
     "name": "stdout",
     "output_type": "stream",
     "text": [
      "https://kunmanga.com/manga/damn-reincarnation/chapter-2\n",
      "Imagem 0000 baixada e salva como tmp\\Damn-Reincarnation\\image_download\\2\\0002-0000-Damn-Reincarnation.png\n",
      "Imagem 0001 baixada e salva como tmp\\Damn-Reincarnation\\image_download\\2\\0002-0001-Damn-Reincarnation.png\n",
      "Imagem 0002 baixada e salva como tmp\\Damn-Reincarnation\\image_download\\2\\0002-0002-Damn-Reincarnation.png\n",
      "Imagem 0003 baixada e salva como tmp\\Damn-Reincarnation\\image_download\\2\\0002-0003-Damn-Reincarnation.png\n",
      "Imagem 0004 baixada e salva como tmp\\Damn-Reincarnation\\image_download\\2\\0002-0004-Damn-Reincarnation.png\n",
      "Imagem 0005 baixada e salva como tmp\\Damn-Reincarnation\\image_download\\2\\0002-0005-Damn-Reincarnation.png\n",
      "Imagem 0006 baixada e salva como tmp\\Damn-Reincarnation\\image_download\\2\\0002-0006-Damn-Reincarnation.png\n",
      "Imagem 0007 baixada e salva como tmp\\Damn-Reincarnation\\image_download\\2\\0002-0007-Damn-Reincarnation.png\n",
      "Imagem 0008 baixada e salva como tmp\\Damn-Reincarnation\\image_download\\2\\0002-0008-Damn-Reincarnation.png\n",
      "Imagem 0009 baixada e salva como tmp\\Damn-Reincarnation\\image_download\\2\\0002-0009-Damn-Reincarnation.png\n",
      "Imagem 0010 baixada e salva como tmp\\Damn-Reincarnation\\image_download\\2\\0002-0010-Damn-Reincarnation.png\n",
      "Imagem 0011 baixada e salva como tmp\\Damn-Reincarnation\\image_download\\2\\0002-0011-Damn-Reincarnation.png\n",
      "Imagem 0012 baixada e salva como tmp\\Damn-Reincarnation\\image_download\\2\\0002-0012-Damn-Reincarnation.png\n",
      "https://kunmanga.com/manga/damn-reincarnation/chapter-3\n",
      "Imagem 0000 baixada e salva como tmp\\Damn-Reincarnation\\image_download\\3\\0003-0000-Damn-Reincarnation.png\n",
      "Imagem 0001 baixada e salva como tmp\\Damn-Reincarnation\\image_download\\3\\0003-0001-Damn-Reincarnation.png\n",
      "Imagem 0002 baixada e salva como tmp\\Damn-Reincarnation\\image_download\\3\\0003-0002-Damn-Reincarnation.png\n",
      "Imagem 0003 baixada e salva como tmp\\Damn-Reincarnation\\image_download\\3\\0003-0003-Damn-Reincarnation.png\n",
      "Imagem 0004 baixada e salva como tmp\\Damn-Reincarnation\\image_download\\3\\0003-0004-Damn-Reincarnation.png\n",
      "Imagem 0005 baixada e salva como tmp\\Damn-Reincarnation\\image_download\\3\\0003-0005-Damn-Reincarnation.png\n",
      "Imagem 0006 baixada e salva como tmp\\Damn-Reincarnation\\image_download\\3\\0003-0006-Damn-Reincarnation.png\n",
      "Imagem 0007 baixada e salva como tmp\\Damn-Reincarnation\\image_download\\3\\0003-0007-Damn-Reincarnation.png\n",
      "Imagem 0008 baixada e salva como tmp\\Damn-Reincarnation\\image_download\\3\\0003-0008-Damn-Reincarnation.png\n",
      "Imagem 0009 baixada e salva como tmp\\Damn-Reincarnation\\image_download\\3\\0003-0009-Damn-Reincarnation.png\n",
      "Imagem 0010 baixada e salva como tmp\\Damn-Reincarnation\\image_download\\3\\0003-0010-Damn-Reincarnation.png\n",
      "Imagem 0011 baixada e salva como tmp\\Damn-Reincarnation\\image_download\\3\\0003-0011-Damn-Reincarnation.png\n",
      "https://kunmanga.com/manga/damn-reincarnation/chapter-4\n",
      "Imagem 0000 baixada e salva como tmp\\Damn-Reincarnation\\image_download\\4\\0004-0000-Damn-Reincarnation.png\n",
      "Imagem 0001 baixada e salva como tmp\\Damn-Reincarnation\\image_download\\4\\0004-0001-Damn-Reincarnation.png\n",
      "Imagem 0002 baixada e salva como tmp\\Damn-Reincarnation\\image_download\\4\\0004-0002-Damn-Reincarnation.png\n",
      "Imagem 0003 baixada e salva como tmp\\Damn-Reincarnation\\image_download\\4\\0004-0003-Damn-Reincarnation.png\n",
      "Imagem 0004 baixada e salva como tmp\\Damn-Reincarnation\\image_download\\4\\0004-0004-Damn-Reincarnation.png\n",
      "Imagem 0005 baixada e salva como tmp\\Damn-Reincarnation\\image_download\\4\\0004-0005-Damn-Reincarnation.png\n",
      "Imagem 0006 baixada e salva como tmp\\Damn-Reincarnation\\image_download\\4\\0004-0006-Damn-Reincarnation.png\n",
      "Imagem 0007 baixada e salva como tmp\\Damn-Reincarnation\\image_download\\4\\0004-0007-Damn-Reincarnation.png\n",
      "Imagem 0008 baixada e salva como tmp\\Damn-Reincarnation\\image_download\\4\\0004-0008-Damn-Reincarnation.png\n",
      "Imagem 0009 baixada e salva como tmp\\Damn-Reincarnation\\image_download\\4\\0004-0009-Damn-Reincarnation.png\n",
      "Imagem 0010 baixada e salva como tmp\\Damn-Reincarnation\\image_download\\4\\0004-0010-Damn-Reincarnation.png\n",
      "Imagem 0011 baixada e salva como tmp\\Damn-Reincarnation\\image_download\\4\\0004-0011-Damn-Reincarnation.png\n",
      "Imagem 0012 baixada e salva como tmp\\Damn-Reincarnation\\image_download\\4\\0004-0012-Damn-Reincarnation.png\n",
      "https://kunmanga.com/manga/damn-reincarnation/chapter-5\n",
      "Imagem 0000 baixada e salva como tmp\\Damn-Reincarnation\\image_download\\5\\0005-0000-Damn-Reincarnation.png\n",
      "Imagem 0001 baixada e salva como tmp\\Damn-Reincarnation\\image_download\\5\\0005-0001-Damn-Reincarnation.png\n",
      "Imagem 0002 baixada e salva como tmp\\Damn-Reincarnation\\image_download\\5\\0005-0002-Damn-Reincarnation.png\n",
      "Imagem 0003 baixada e salva como tmp\\Damn-Reincarnation\\image_download\\5\\0005-0003-Damn-Reincarnation.png\n",
      "Imagem 0004 baixada e salva como tmp\\Damn-Reincarnation\\image_download\\5\\0005-0004-Damn-Reincarnation.png\n",
      "Imagem 0005 baixada e salva como tmp\\Damn-Reincarnation\\image_download\\5\\0005-0005-Damn-Reincarnation.png\n",
      "Imagem 0006 baixada e salva como tmp\\Damn-Reincarnation\\image_download\\5\\0005-0006-Damn-Reincarnation.png\n",
      "Imagem 0007 baixada e salva como tmp\\Damn-Reincarnation\\image_download\\5\\0005-0007-Damn-Reincarnation.png\n",
      "Imagem 0008 baixada e salva como tmp\\Damn-Reincarnation\\image_download\\5\\0005-0008-Damn-Reincarnation.png\n",
      "Imagem 0009 baixada e salva como tmp\\Damn-Reincarnation\\image_download\\5\\0005-0009-Damn-Reincarnation.png\n",
      "Imagem 0010 baixada e salva como tmp\\Damn-Reincarnation\\image_download\\5\\0005-0010-Damn-Reincarnation.png\n",
      "Imagem 0011 baixada e salva como tmp\\Damn-Reincarnation\\image_download\\5\\0005-0011-Damn-Reincarnation.png\n",
      "Imagem 0012 baixada e salva como tmp\\Damn-Reincarnation\\image_download\\5\\0005-0012-Damn-Reincarnation.png\n",
      "https://kunmanga.com/manga/damn-reincarnation/chapter-6\n",
      "Imagem 0000 baixada e salva como tmp\\Damn-Reincarnation\\image_download\\6\\0006-0000-Damn-Reincarnation.png\n",
      "Imagem 0001 baixada e salva como tmp\\Damn-Reincarnation\\image_download\\6\\0006-0001-Damn-Reincarnation.png\n",
      "Imagem 0002 baixada e salva como tmp\\Damn-Reincarnation\\image_download\\6\\0006-0002-Damn-Reincarnation.png\n",
      "Imagem 0003 baixada e salva como tmp\\Damn-Reincarnation\\image_download\\6\\0006-0003-Damn-Reincarnation.png\n",
      "Imagem 0004 baixada e salva como tmp\\Damn-Reincarnation\\image_download\\6\\0006-0004-Damn-Reincarnation.png\n",
      "Imagem 0005 baixada e salva como tmp\\Damn-Reincarnation\\image_download\\6\\0006-0005-Damn-Reincarnation.png\n",
      "Imagem 0006 baixada e salva como tmp\\Damn-Reincarnation\\image_download\\6\\0006-0006-Damn-Reincarnation.png\n",
      "Imagem 0007 baixada e salva como tmp\\Damn-Reincarnation\\image_download\\6\\0006-0007-Damn-Reincarnation.png\n",
      "Imagem 0008 baixada e salva como tmp\\Damn-Reincarnation\\image_download\\6\\0006-0008-Damn-Reincarnation.png\n",
      "Imagem 0009 baixada e salva como tmp\\Damn-Reincarnation\\image_download\\6\\0006-0009-Damn-Reincarnation.png\n",
      "Imagem 0010 baixada e salva como tmp\\Damn-Reincarnation\\image_download\\6\\0006-0010-Damn-Reincarnation.png\n",
      "Imagem 0011 baixada e salva como tmp\\Damn-Reincarnation\\image_download\\6\\0006-0011-Damn-Reincarnation.png\n",
      "Imagem 0012 baixada e salva como tmp\\Damn-Reincarnation\\image_download\\6\\0006-0012-Damn-Reincarnation.png\n",
      "Imagem 0013 baixada e salva como tmp\\Damn-Reincarnation\\image_download\\6\\0006-0013-Damn-Reincarnation.png\n",
      "Imagem 0014 baixada e salva como tmp\\Damn-Reincarnation\\image_download\\6\\0006-0014-Damn-Reincarnation.png\n",
      "https://kunmanga.com/manga/damn-reincarnation/chapter-7\n",
      "Imagem 0000 baixada e salva como tmp\\Damn-Reincarnation\\image_download\\7\\0007-0000-Damn-Reincarnation.png\n",
      "Imagem 0001 baixada e salva como tmp\\Damn-Reincarnation\\image_download\\7\\0007-0001-Damn-Reincarnation.png\n",
      "Imagem 0002 baixada e salva como tmp\\Damn-Reincarnation\\image_download\\7\\0007-0002-Damn-Reincarnation.png\n",
      "Imagem 0003 baixada e salva como tmp\\Damn-Reincarnation\\image_download\\7\\0007-0003-Damn-Reincarnation.png\n",
      "Imagem 0004 baixada e salva como tmp\\Damn-Reincarnation\\image_download\\7\\0007-0004-Damn-Reincarnation.png\n",
      "Imagem 0005 baixada e salva como tmp\\Damn-Reincarnation\\image_download\\7\\0007-0005-Damn-Reincarnation.png\n",
      "Imagem 0006 baixada e salva como tmp\\Damn-Reincarnation\\image_download\\7\\0007-0006-Damn-Reincarnation.png\n",
      "Imagem 0007 baixada e salva como tmp\\Damn-Reincarnation\\image_download\\7\\0007-0007-Damn-Reincarnation.png\n",
      "Imagem 0008 baixada e salva como tmp\\Damn-Reincarnation\\image_download\\7\\0007-0008-Damn-Reincarnation.png\n",
      "Imagem 0009 baixada e salva como tmp\\Damn-Reincarnation\\image_download\\7\\0007-0009-Damn-Reincarnation.png\n",
      "Imagem 0010 baixada e salva como tmp\\Damn-Reincarnation\\image_download\\7\\0007-0010-Damn-Reincarnation.png\n",
      "Imagem 0011 baixada e salva como tmp\\Damn-Reincarnation\\image_download\\7\\0007-0011-Damn-Reincarnation.png\n",
      "Imagem 0012 baixada e salva como tmp\\Damn-Reincarnation\\image_download\\7\\0007-0012-Damn-Reincarnation.png\n",
      "Imagem 0013 baixada e salva como tmp\\Damn-Reincarnation\\image_download\\7\\0007-0013-Damn-Reincarnation.png\n",
      "https://kunmanga.com/manga/damn-reincarnation/chapter-8\n",
      "Imagem 0000 baixada e salva como tmp\\Damn-Reincarnation\\image_download\\8\\0008-0000-Damn-Reincarnation.png\n",
      "Imagem 0001 baixada e salva como tmp\\Damn-Reincarnation\\image_download\\8\\0008-0001-Damn-Reincarnation.png\n",
      "Imagem 0002 baixada e salva como tmp\\Damn-Reincarnation\\image_download\\8\\0008-0002-Damn-Reincarnation.png\n",
      "Imagem 0003 baixada e salva como tmp\\Damn-Reincarnation\\image_download\\8\\0008-0003-Damn-Reincarnation.png\n",
      "Imagem 0004 baixada e salva como tmp\\Damn-Reincarnation\\image_download\\8\\0008-0004-Damn-Reincarnation.png\n",
      "Imagem 0005 baixada e salva como tmp\\Damn-Reincarnation\\image_download\\8\\0008-0005-Damn-Reincarnation.png\n",
      "Imagem 0006 baixada e salva como tmp\\Damn-Reincarnation\\image_download\\8\\0008-0006-Damn-Reincarnation.png\n",
      "Imagem 0007 baixada e salva como tmp\\Damn-Reincarnation\\image_download\\8\\0008-0007-Damn-Reincarnation.png\n",
      "Imagem 0008 baixada e salva como tmp\\Damn-Reincarnation\\image_download\\8\\0008-0008-Damn-Reincarnation.png\n",
      "Imagem 0009 baixada e salva como tmp\\Damn-Reincarnation\\image_download\\8\\0008-0009-Damn-Reincarnation.png\n",
      "Imagem 0010 baixada e salva como tmp\\Damn-Reincarnation\\image_download\\8\\0008-0010-Damn-Reincarnation.png\n",
      "Imagem 0011 baixada e salva como tmp\\Damn-Reincarnation\\image_download\\8\\0008-0011-Damn-Reincarnation.png\n",
      "Imagem 0012 baixada e salva como tmp\\Damn-Reincarnation\\image_download\\8\\0008-0012-Damn-Reincarnation.png\n",
      "Imagem 0013 baixada e salva como tmp\\Damn-Reincarnation\\image_download\\8\\0008-0013-Damn-Reincarnation.png\n",
      "Imagem 0014 baixada e salva como tmp\\Damn-Reincarnation\\image_download\\8\\0008-0014-Damn-Reincarnation.png\n",
      "Imagem 0015 baixada e salva como tmp\\Damn-Reincarnation\\image_download\\8\\0008-0015-Damn-Reincarnation.png\n",
      "https://kunmanga.com/manga/damn-reincarnation/chapter-9\n",
      "Imagem 0000 baixada e salva como tmp\\Damn-Reincarnation\\image_download\\9\\0009-0000-Damn-Reincarnation.png\n",
      "Imagem 0001 baixada e salva como tmp\\Damn-Reincarnation\\image_download\\9\\0009-0001-Damn-Reincarnation.png\n",
      "Imagem 0002 baixada e salva como tmp\\Damn-Reincarnation\\image_download\\9\\0009-0002-Damn-Reincarnation.png\n",
      "Imagem 0003 baixada e salva como tmp\\Damn-Reincarnation\\image_download\\9\\0009-0003-Damn-Reincarnation.png\n",
      "Imagem 0004 baixada e salva como tmp\\Damn-Reincarnation\\image_download\\9\\0009-0004-Damn-Reincarnation.png\n",
      "Imagem 0005 baixada e salva como tmp\\Damn-Reincarnation\\image_download\\9\\0009-0005-Damn-Reincarnation.png\n",
      "Imagem 0006 baixada e salva como tmp\\Damn-Reincarnation\\image_download\\9\\0009-0006-Damn-Reincarnation.png\n",
      "Imagem 0007 baixada e salva como tmp\\Damn-Reincarnation\\image_download\\9\\0009-0007-Damn-Reincarnation.png\n",
      "Imagem 0008 baixada e salva como tmp\\Damn-Reincarnation\\image_download\\9\\0009-0008-Damn-Reincarnation.png\n",
      "Imagem 0009 baixada e salva como tmp\\Damn-Reincarnation\\image_download\\9\\0009-0009-Damn-Reincarnation.png\n",
      "Imagem 0010 baixada e salva como tmp\\Damn-Reincarnation\\image_download\\9\\0009-0010-Damn-Reincarnation.png\n",
      "Imagem 0011 baixada e salva como tmp\\Damn-Reincarnation\\image_download\\9\\0009-0011-Damn-Reincarnation.png\n",
      "Imagem 0012 baixada e salva como tmp\\Damn-Reincarnation\\image_download\\9\\0009-0012-Damn-Reincarnation.png\n",
      "Imagem 0013 baixada e salva como tmp\\Damn-Reincarnation\\image_download\\9\\0009-0013-Damn-Reincarnation.png\n",
      "Imagem 0014 baixada e salva como tmp\\Damn-Reincarnation\\image_download\\9\\0009-0014-Damn-Reincarnation.png\n",
      "Imagem 0015 baixada e salva como tmp\\Damn-Reincarnation\\image_download\\9\\0009-0015-Damn-Reincarnation.png\n"
     ]
    },
    {
     "ename": "",
     "evalue": "",
     "output_type": "error",
     "traceback": [
      "\u001b[1;31mThe Kernel crashed while executing code in the the current cell or a previous cell. Please review the code in the cell(s) to identify a possible cause of the failure. Click <a href='https://aka.ms/vscodeJupyterKernelCrash'>here</a> for more info. View Jupyter <a href='command:jupyter.viewOutput'>log</a> for further details."
     ]
    }
   ],
   "source": [
    "for folder_id in range(begin, end):\n",
    "    download_images_from_url(IMG_URL, tmp_download_folder, IMAGE_FILENAME, folder_id)"
   ]
  }
 ],
 "metadata": {
  "kernelspec": {
   "display_name": "venv-mhw",
   "language": "python",
   "name": "python3"
  },
  "language_info": {
   "codemirror_mode": {
    "name": "ipython",
    "version": 3
   },
   "file_extension": ".py",
   "mimetype": "text/x-python",
   "name": "python",
   "nbconvert_exporter": "python",
   "pygments_lexer": "ipython3",
   "version": "3.11.5"
  },
  "orig_nbformat": 4
 },
 "nbformat": 4,
 "nbformat_minor": 2
}
