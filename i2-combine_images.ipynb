{
 "cells": [
  {
   "cell_type": "code",
   "execution_count": 8,
   "metadata": {},
   "outputs": [],
   "source": [
    "import os\n",
    "\n",
    "from dotenv import dotenv_values\n",
    "from util import combine_images_vertically_from_folder\n",
    "from config.app import \\\n",
    "TMP, PROJECT_NAME,\\\n",
    "    IMAGE_FILENAME, TMP_IMAGE_FOLDER_DOWNLOAD,\\\n",
    "        TMP_IMAGE_FOLDER\n",
    "\n",
    "tmp_image_folder = os.path.join(TMP, PROJECT_NAME, TMP_IMAGE_FOLDER)\n",
    "if not os.path.isdir(tmp_image_folder):\n",
    "    os.makedirs(tmp_image_folder)"
   ]
  },
  {
   "cell_type": "code",
   "execution_count": 13,
   "metadata": {},
   "outputs": [
    {
     "data": {
      "text/plain": [
       "['2', '3', '4', '5', '6', '7', '8', '9']"
      ]
     },
     "execution_count": 13,
     "metadata": {},
     "output_type": "execute_result"
    }
   ],
   "source": [
    "chapters = sorted(os.listdir(os.path.join(TMP, PROJECT_NAME, TMP_IMAGE_FOLDER_DOWNLOAD)), key=lambda directory: int(directory))\n",
    "\n",
    "begin = 1\n",
    "end = len(chapters)\n",
    "chapters[begin:end]"
   ]
  },
  {
   "cell_type": "code",
   "execution_count": 14,
   "metadata": {},
   "outputs": [
    {
     "name": "stdout",
     "output_type": "stream",
     "text": [
      "2\n",
      "['tmp\\\\Damn-Reincarnation\\\\image_download\\\\2\\\\0002-0001-Damn-Reincarnation.png', 'tmp\\\\Damn-Reincarnation\\\\image_download\\\\2\\\\0002-0002-Damn-Reincarnation.png', 'tmp\\\\Damn-Reincarnation\\\\image_download\\\\2\\\\0002-0003-Damn-Reincarnation.png', 'tmp\\\\Damn-Reincarnation\\\\image_download\\\\2\\\\0002-0004-Damn-Reincarnation.png', 'tmp\\\\Damn-Reincarnation\\\\image_download\\\\2\\\\0002-0005-Damn-Reincarnation.png', 'tmp\\\\Damn-Reincarnation\\\\image_download\\\\2\\\\0002-0006-Damn-Reincarnation.png', 'tmp\\\\Damn-Reincarnation\\\\image_download\\\\2\\\\0002-0007-Damn-Reincarnation.png', 'tmp\\\\Damn-Reincarnation\\\\image_download\\\\2\\\\0002-0008-Damn-Reincarnation.png', 'tmp\\\\Damn-Reincarnation\\\\image_download\\\\2\\\\0002-0009-Damn-Reincarnation.png', 'tmp\\\\Damn-Reincarnation\\\\image_download\\\\2\\\\0002-0010-Damn-Reincarnation.png', 'tmp\\\\Damn-Reincarnation\\\\image_download\\\\2\\\\0002-0011-Damn-Reincarnation.png', 'tmp\\\\Damn-Reincarnation\\\\image_download\\\\2\\\\0002-0012-Damn-Reincarnation.png']\n",
      "3\n",
      "['tmp\\\\Damn-Reincarnation\\\\image_download\\\\3\\\\0003-0001-Damn-Reincarnation.png', 'tmp\\\\Damn-Reincarnation\\\\image_download\\\\3\\\\0003-0002-Damn-Reincarnation.png', 'tmp\\\\Damn-Reincarnation\\\\image_download\\\\3\\\\0003-0003-Damn-Reincarnation.png', 'tmp\\\\Damn-Reincarnation\\\\image_download\\\\3\\\\0003-0004-Damn-Reincarnation.png', 'tmp\\\\Damn-Reincarnation\\\\image_download\\\\3\\\\0003-0005-Damn-Reincarnation.png', 'tmp\\\\Damn-Reincarnation\\\\image_download\\\\3\\\\0003-0006-Damn-Reincarnation.png', 'tmp\\\\Damn-Reincarnation\\\\image_download\\\\3\\\\0003-0007-Damn-Reincarnation.png', 'tmp\\\\Damn-Reincarnation\\\\image_download\\\\3\\\\0003-0008-Damn-Reincarnation.png', 'tmp\\\\Damn-Reincarnation\\\\image_download\\\\3\\\\0003-0009-Damn-Reincarnation.png', 'tmp\\\\Damn-Reincarnation\\\\image_download\\\\3\\\\0003-0010-Damn-Reincarnation.png', 'tmp\\\\Damn-Reincarnation\\\\image_download\\\\3\\\\0003-0011-Damn-Reincarnation.png']\n",
      "4\n",
      "['tmp\\\\Damn-Reincarnation\\\\image_download\\\\4\\\\0004-0001-Damn-Reincarnation.png', 'tmp\\\\Damn-Reincarnation\\\\image_download\\\\4\\\\0004-0002-Damn-Reincarnation.png', 'tmp\\\\Damn-Reincarnation\\\\image_download\\\\4\\\\0004-0003-Damn-Reincarnation.png', 'tmp\\\\Damn-Reincarnation\\\\image_download\\\\4\\\\0004-0004-Damn-Reincarnation.png', 'tmp\\\\Damn-Reincarnation\\\\image_download\\\\4\\\\0004-0005-Damn-Reincarnation.png', 'tmp\\\\Damn-Reincarnation\\\\image_download\\\\4\\\\0004-0006-Damn-Reincarnation.png', 'tmp\\\\Damn-Reincarnation\\\\image_download\\\\4\\\\0004-0007-Damn-Reincarnation.png', 'tmp\\\\Damn-Reincarnation\\\\image_download\\\\4\\\\0004-0008-Damn-Reincarnation.png', 'tmp\\\\Damn-Reincarnation\\\\image_download\\\\4\\\\0004-0009-Damn-Reincarnation.png', 'tmp\\\\Damn-Reincarnation\\\\image_download\\\\4\\\\0004-0010-Damn-Reincarnation.png', 'tmp\\\\Damn-Reincarnation\\\\image_download\\\\4\\\\0004-0011-Damn-Reincarnation.png', 'tmp\\\\Damn-Reincarnation\\\\image_download\\\\4\\\\0004-0012-Damn-Reincarnation.png']\n",
      "5\n",
      "['tmp\\\\Damn-Reincarnation\\\\image_download\\\\5\\\\0005-0001-Damn-Reincarnation.png', 'tmp\\\\Damn-Reincarnation\\\\image_download\\\\5\\\\0005-0002-Damn-Reincarnation.png', 'tmp\\\\Damn-Reincarnation\\\\image_download\\\\5\\\\0005-0003-Damn-Reincarnation.png', 'tmp\\\\Damn-Reincarnation\\\\image_download\\\\5\\\\0005-0004-Damn-Reincarnation.png', 'tmp\\\\Damn-Reincarnation\\\\image_download\\\\5\\\\0005-0005-Damn-Reincarnation.png', 'tmp\\\\Damn-Reincarnation\\\\image_download\\\\5\\\\0005-0006-Damn-Reincarnation.png', 'tmp\\\\Damn-Reincarnation\\\\image_download\\\\5\\\\0005-0007-Damn-Reincarnation.png', 'tmp\\\\Damn-Reincarnation\\\\image_download\\\\5\\\\0005-0008-Damn-Reincarnation.png', 'tmp\\\\Damn-Reincarnation\\\\image_download\\\\5\\\\0005-0009-Damn-Reincarnation.png', 'tmp\\\\Damn-Reincarnation\\\\image_download\\\\5\\\\0005-0010-Damn-Reincarnation.png', 'tmp\\\\Damn-Reincarnation\\\\image_download\\\\5\\\\0005-0011-Damn-Reincarnation.png', 'tmp\\\\Damn-Reincarnation\\\\image_download\\\\5\\\\0005-0012-Damn-Reincarnation.png']\n",
      "6\n",
      "['tmp\\\\Damn-Reincarnation\\\\image_download\\\\6\\\\0006-0001-Damn-Reincarnation.png', 'tmp\\\\Damn-Reincarnation\\\\image_download\\\\6\\\\0006-0002-Damn-Reincarnation.png', 'tmp\\\\Damn-Reincarnation\\\\image_download\\\\6\\\\0006-0003-Damn-Reincarnation.png', 'tmp\\\\Damn-Reincarnation\\\\image_download\\\\6\\\\0006-0004-Damn-Reincarnation.png', 'tmp\\\\Damn-Reincarnation\\\\image_download\\\\6\\\\0006-0005-Damn-Reincarnation.png', 'tmp\\\\Damn-Reincarnation\\\\image_download\\\\6\\\\0006-0006-Damn-Reincarnation.png', 'tmp\\\\Damn-Reincarnation\\\\image_download\\\\6\\\\0006-0007-Damn-Reincarnation.png', 'tmp\\\\Damn-Reincarnation\\\\image_download\\\\6\\\\0006-0008-Damn-Reincarnation.png', 'tmp\\\\Damn-Reincarnation\\\\image_download\\\\6\\\\0006-0009-Damn-Reincarnation.png', 'tmp\\\\Damn-Reincarnation\\\\image_download\\\\6\\\\0006-0010-Damn-Reincarnation.png', 'tmp\\\\Damn-Reincarnation\\\\image_download\\\\6\\\\0006-0011-Damn-Reincarnation.png', 'tmp\\\\Damn-Reincarnation\\\\image_download\\\\6\\\\0006-0012-Damn-Reincarnation.png', 'tmp\\\\Damn-Reincarnation\\\\image_download\\\\6\\\\0006-0013-Damn-Reincarnation.png', 'tmp\\\\Damn-Reincarnation\\\\image_download\\\\6\\\\0006-0014-Damn-Reincarnation.png']\n",
      "7\n",
      "['tmp\\\\Damn-Reincarnation\\\\image_download\\\\7\\\\0007-0001-Damn-Reincarnation.png', 'tmp\\\\Damn-Reincarnation\\\\image_download\\\\7\\\\0007-0002-Damn-Reincarnation.png', 'tmp\\\\Damn-Reincarnation\\\\image_download\\\\7\\\\0007-0003-Damn-Reincarnation.png', 'tmp\\\\Damn-Reincarnation\\\\image_download\\\\7\\\\0007-0004-Damn-Reincarnation.png', 'tmp\\\\Damn-Reincarnation\\\\image_download\\\\7\\\\0007-0005-Damn-Reincarnation.png', 'tmp\\\\Damn-Reincarnation\\\\image_download\\\\7\\\\0007-0006-Damn-Reincarnation.png', 'tmp\\\\Damn-Reincarnation\\\\image_download\\\\7\\\\0007-0007-Damn-Reincarnation.png', 'tmp\\\\Damn-Reincarnation\\\\image_download\\\\7\\\\0007-0008-Damn-Reincarnation.png', 'tmp\\\\Damn-Reincarnation\\\\image_download\\\\7\\\\0007-0009-Damn-Reincarnation.png', 'tmp\\\\Damn-Reincarnation\\\\image_download\\\\7\\\\0007-0010-Damn-Reincarnation.png', 'tmp\\\\Damn-Reincarnation\\\\image_download\\\\7\\\\0007-0011-Damn-Reincarnation.png', 'tmp\\\\Damn-Reincarnation\\\\image_download\\\\7\\\\0007-0012-Damn-Reincarnation.png', 'tmp\\\\Damn-Reincarnation\\\\image_download\\\\7\\\\0007-0013-Damn-Reincarnation.png']\n",
      "8\n",
      "['tmp\\\\Damn-Reincarnation\\\\image_download\\\\8\\\\0008-0001-Damn-Reincarnation.png', 'tmp\\\\Damn-Reincarnation\\\\image_download\\\\8\\\\0008-0002-Damn-Reincarnation.png', 'tmp\\\\Damn-Reincarnation\\\\image_download\\\\8\\\\0008-0003-Damn-Reincarnation.png', 'tmp\\\\Damn-Reincarnation\\\\image_download\\\\8\\\\0008-0004-Damn-Reincarnation.png', 'tmp\\\\Damn-Reincarnation\\\\image_download\\\\8\\\\0008-0005-Damn-Reincarnation.png', 'tmp\\\\Damn-Reincarnation\\\\image_download\\\\8\\\\0008-0006-Damn-Reincarnation.png', 'tmp\\\\Damn-Reincarnation\\\\image_download\\\\8\\\\0008-0007-Damn-Reincarnation.png', 'tmp\\\\Damn-Reincarnation\\\\image_download\\\\8\\\\0008-0008-Damn-Reincarnation.png', 'tmp\\\\Damn-Reincarnation\\\\image_download\\\\8\\\\0008-0009-Damn-Reincarnation.png', 'tmp\\\\Damn-Reincarnation\\\\image_download\\\\8\\\\0008-0010-Damn-Reincarnation.png', 'tmp\\\\Damn-Reincarnation\\\\image_download\\\\8\\\\0008-0011-Damn-Reincarnation.png', 'tmp\\\\Damn-Reincarnation\\\\image_download\\\\8\\\\0008-0012-Damn-Reincarnation.png', 'tmp\\\\Damn-Reincarnation\\\\image_download\\\\8\\\\0008-0013-Damn-Reincarnation.png', 'tmp\\\\Damn-Reincarnation\\\\image_download\\\\8\\\\0008-0014-Damn-Reincarnation.png', 'tmp\\\\Damn-Reincarnation\\\\image_download\\\\8\\\\0008-0015-Damn-Reincarnation.png']\n",
      "9\n",
      "['tmp\\\\Damn-Reincarnation\\\\image_download\\\\9\\\\0009-0001-Damn-Reincarnation.png', 'tmp\\\\Damn-Reincarnation\\\\image_download\\\\9\\\\0009-0002-Damn-Reincarnation.png', 'tmp\\\\Damn-Reincarnation\\\\image_download\\\\9\\\\0009-0003-Damn-Reincarnation.png', 'tmp\\\\Damn-Reincarnation\\\\image_download\\\\9\\\\0009-0004-Damn-Reincarnation.png', 'tmp\\\\Damn-Reincarnation\\\\image_download\\\\9\\\\0009-0005-Damn-Reincarnation.png', 'tmp\\\\Damn-Reincarnation\\\\image_download\\\\9\\\\0009-0006-Damn-Reincarnation.png', 'tmp\\\\Damn-Reincarnation\\\\image_download\\\\9\\\\0009-0007-Damn-Reincarnation.png', 'tmp\\\\Damn-Reincarnation\\\\image_download\\\\9\\\\0009-0008-Damn-Reincarnation.png', 'tmp\\\\Damn-Reincarnation\\\\image_download\\\\9\\\\0009-0009-Damn-Reincarnation.png', 'tmp\\\\Damn-Reincarnation\\\\image_download\\\\9\\\\0009-0010-Damn-Reincarnation.png', 'tmp\\\\Damn-Reincarnation\\\\image_download\\\\9\\\\0009-0011-Damn-Reincarnation.png', 'tmp\\\\Damn-Reincarnation\\\\image_download\\\\9\\\\0009-0012-Damn-Reincarnation.png', 'tmp\\\\Damn-Reincarnation\\\\image_download\\\\9\\\\0009-0013-Damn-Reincarnation.png', 'tmp\\\\Damn-Reincarnation\\\\image_download\\\\9\\\\0009-0014-Damn-Reincarnation.png', 'tmp\\\\Damn-Reincarnation\\\\image_download\\\\9\\\\0009-0015-Damn-Reincarnation.png']\n"
     ]
    },
    {
     "ename": "",
     "evalue": "",
     "output_type": "error",
     "traceback": [
      "\u001b[1;31mThe Kernel crashed while executing code in the the current cell or a previous cell. Please review the code in the cell(s) to identify a possible cause of the failure. Click <a href='https://aka.ms/vscodeJupyterKernelCrash'>here</a> for more info. View Jupyter <a href='command:jupyter.viewOutput'>log</a> for further details."
     ]
    }
   ],
   "source": [
    "for chapter in chapters[begin:end]:\n",
    "\n",
    "    filename = os.path.join(TMP, PROJECT_NAME, TMP_IMAGE_FOLDER ,f'{int(chapter):03}-{IMAGE_FILENAME}')\n",
    "    folder_name = os.path.join(TMP, PROJECT_NAME, TMP_IMAGE_FOLDER_DOWNLOAD, str(chapter))\n",
    "    images = [os.path.join(folder_name, image) for image in sorted(os.listdir(folder_name))]\n",
    "\n",
    "    combine_images_vertically_from_folder(images, filename)\n",
    "    \n",
    "    print(chapter)\n",
    "    print(images)"
   ]
  }
 ],
 "metadata": {
  "kernelspec": {
   "display_name": "venv-mhw",
   "language": "python",
   "name": "python3"
  },
  "language_info": {
   "codemirror_mode": {
    "name": "ipython",
    "version": 3
   },
   "file_extension": ".py",
   "mimetype": "text/x-python",
   "name": "python",
   "nbconvert_exporter": "python",
   "pygments_lexer": "ipython3",
   "version": "3.11.5"
  },
  "orig_nbformat": 4
 },
 "nbformat": 4,
 "nbformat_minor": 2
}
