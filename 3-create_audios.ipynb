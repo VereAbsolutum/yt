{
 "cells": [
  {
   "cell_type": "code",
   "execution_count": 1,
   "metadata": {},
   "outputs": [],
   "source": [
    "import os\n",
    "import glob\n",
    "\n",
    "from dotenv import dotenv_values\n",
    "from util import text_to_speech_and_save, get_file\n",
    "from config.app import APP, PROJECT_NAME, AUDIO_FOLDER, SPEECH_KEY, SPEECH_REGION, TRANSLATED_FOLDER, AUDIO_FILENAME, SPEECH_VOICE\n",
    "\n",
    "####\n",
    "audio_folder = os.path.join(APP, PROJECT_NAME, AUDIO_FOLDER)\n",
    "os.makedirs(audio_folder, exist_ok=True)\n",
    "\n"
   ]
  },
  {
   "cell_type": "code",
   "execution_count": 2,
   "metadata": {},
   "outputs": [
    {
     "data": {
      "text/plain": [
       "'project\\\\Damn-Reincarnation\\\\translated\\\\0'"
      ]
     },
     "execution_count": 2,
     "metadata": {},
     "output_type": "execute_result"
    }
   ],
   "source": [
    "folder_id = 0\n",
    "input_file_folder = os.path.join(APP, PROJECT_NAME, TRANSLATED_FOLDER, str(folder_id))\n",
    "input_file_folder"
   ]
  },
  {
   "cell_type": "code",
   "execution_count": 3,
   "metadata": {},
   "outputs": [
    {
     "data": {
      "text/plain": [
       "['Dentro do reino demoníaco, o guerreiro Vermouth e seus quatro companheiros invadem o castelo para subjugar os reis demônios',\n",
       " 'Eles já haviam derrotado três dos cinco reis demônios, mas ainda restavam dois',\n",
       " 'Uma horda de demônios os ataca, e Vermouth, com um único golpe de sua espada, abre caminho instantaneamente',\n",
       " 'Esse é o poder do grande Vermouth, o personagem mais fodão de todos, a gente sabe disso porque ele tem cabelo branco, e todo personagem de cabelo branco é foda',\n",
       " 'Atrás dele, uma maga comenta que ela pode definitivamente usar seus poderes',\n",
       " 'Ela o faz, e inúmeros elementos surgem do nada, limpando o caminho',\n",
       " 'Esta é Seiya, a sábia',\n",
       " 'Uma sacerdotisa tenta abençoar todos com sua magia sagrada, e é nesse momento que um demônio a ataca',\n",
       " 'Mas parece que ela não é tão indefesa assim galera, ela saca uma maça que tava no cinto dela e esmigalha a cabela do monstro, ela é Anis, a Fiel',\n",
       " 'O mais robusto do grupo, ataca com um gigantesco machado e, com apenas um balanço, dizima os monstros em seu caminho, e uma chuva de katchup de partes de corpos caem sobre ele, ele é Móron, o Bravo',\n",
       " 'o último do grupo e cheio de cicatrizes, passa correndo por Móron, ele exige que Vermouth pare de avançar e abre caminho entre os demônios cortando todos dando espadada para todo lado, Este é Camel, o tolo',\n",
       " 'E como já diziamos, Ele sempre teve inveja de Vermouth, o fodão de cabelo Branco, e o considerava seu rival, mas ninguém realmente reconhecia isso',\n",
       " 'Após limparem o local dos demônios menores, o grupo procura por pistas',\n",
       " 'É quando Camel percebe que Vermouth está em perigo e, no último segundo, salta à frente dele, recebendo o ataque que atravessa seu peito',\n",
       " 'O demônio que atacou parece ser poderoso, e Camel cai de cara no chão',\n",
       " 'O demônio então ataca Vermouth da mesma maneira, mas, agora preparado, ele desvia e, com um movimento ágil, o corta ao meio',\n",
       " 'O grupo corre para o lado de Camel, e Vermouth observa, notando que ele não precisava morrer assim',\n",
       " 'Camel diz que essa morte é honrosa e, até esse último momento, que se tornaria seu último, lamentou seu passado por não ter sido honesto com seus amigos',\n",
       " 'Camel estende a mão e exige que Vermouth derrote o rei demônio',\n",
       " 'Ele agarra sua mão e jura, em nome de seu guerreiro, que todos os reis demônios serão massacrados',\n",
       " 'Camel sorri com certo arrependimento e faz as pazes com todos',\n",
       " 'Ele pede a Anis que ore por ele, diz a Camel que ele é o guerreiro mais bravo que existe e, ao se voltar para Seiya, nota que sempre gostou dela',\n",
       " 'E então corta para um moleque todo irritadinho',\n",
       " 'O garoto de cabelo branco e olhos amarelos, que diz nunca ter afirmado gostar de Seiya, acha isso pura ficção',\n",
       " 'Se ao menos o autor não fosse anônimo, ele poderia lhe ensinar uma lição ou duas',\n",
       " 'Ele pega o livro novamente e se pergunta por que todos têm títulos tão grandiosos como \"o sábio\" ou \"o grande\", enquanto ele era \"o tolo\"',\n",
       " 'Será que isso foi escrito por alguém que ele derrotou há 300 anos? O mesmo vale para seus companheiros, por que eles não fizeram nada a respeito deste livro? Mas é justo, considerando que eles nunca imaginariam que Camel, uma vez morto, reencarnaria assim, com todas as suas memórias intactas',\n",
       " 'Camel morreu no meio da subjugação dos reis demônios há 300 anos e reencarnou como um descendente de Vermouth',\n",
       " 'Agora ele atende por Eugene Lionhart e tem 13 anos']"
      ]
     },
     "execution_count": 3,
     "metadata": {},
     "output_type": "execute_result"
    }
   ],
   "source": [
    "input_file_paths = [path for path in glob.glob(input_file_folder + '/**', recursive=True) if os.path.isfile(path)]\n",
    "sentences = [get_file(s) for s in input_file_paths]\n",
    "sentences"
   ]
  },
  {
   "cell_type": "code",
   "execution_count": 4,
   "metadata": {},
   "outputs": [
    {
     "name": "stdout",
     "output_type": "stream",
     "text": [
      "Speech synthesized for text [Dentro do reino demoníaco, o guerreiro Vermouth e seus quatro companheiros invadem o castelo para subjugar os reis demônios]\n",
      "Speech synthesized for text [Eles já haviam derrotado três dos cinco reis demônios, mas ainda restavam dois]\n",
      "Speech synthesized for text [Uma horda de demônios os ataca, e Vermouth, com um único golpe de sua espada, abre caminho instantaneamente]\n",
      "Speech synthesized for text [Esse é o poder do grande Vermouth, o personagem mais fodão de todos, a gente sabe disso porque ele tem cabelo branco, e todo personagem de cabelo branco é foda]\n",
      "Speech synthesized for text [Atrás dele, uma maga comenta que ela pode definitivamente usar seus poderes]\n",
      "Speech synthesized for text [Ela o faz, e inúmeros elementos surgem do nada, limpando o caminho]\n",
      "Speech synthesized for text [Esta é Seiya, a sábia]\n",
      "Speech synthesized for text [Uma sacerdotisa tenta abençoar todos com sua magia sagrada, e é nesse momento que um demônio a ataca]\n",
      "Speech synthesized for text [Mas parece que ela não é tão indefesa assim galera, ela saca uma maça que tava no cinto dela e esmigalha a cabela do monstro, ela é Anis, a Fiel]\n",
      "Speech synthesized for text [O mais robusto do grupo, ataca com um gigantesco machado e, com apenas um balanço, dizima os monstros em seu caminho, e uma chuva de katchup de partes de corpos caem sobre ele, ele é Móron, o Bravo]\n",
      "Speech synthesized for text [o último do grupo e cheio de cicatrizes, passa correndo por Móron, ele exige que Vermouth pare de avançar e abre caminho entre os demônios cortando todos dando espadada para todo lado, Este é Camel, o tolo]\n",
      "Speech synthesized for text [E como já diziamos, Ele sempre teve inveja de Vermouth, o fodão de cabelo Branco, e o considerava seu rival, mas ninguém realmente reconhecia isso]\n",
      "Speech synthesized for text [Após limparem o local dos demônios menores, o grupo procura por pistas]\n",
      "Speech synthesized for text [É quando Camel percebe que Vermouth está em perigo e, no último segundo, salta à frente dele, recebendo o ataque que atravessa seu peito]\n",
      "Speech synthesized for text [O demônio que atacou parece ser poderoso, e Camel cai de cara no chão]\n",
      "Speech synthesized for text [O demônio então ataca Vermouth da mesma maneira, mas, agora preparado, ele desvia e, com um movimento ágil, o corta ao meio]\n",
      "Speech synthesized for text [O grupo corre para o lado de Camel, e Vermouth observa, notando que ele não precisava morrer assim]\n",
      "Speech synthesized for text [Camel diz que essa morte é honrosa e, até esse último momento, que se tornaria seu último, lamentou seu passado por não ter sido honesto com seus amigos]\n",
      "Speech synthesized for text [Camel estende a mão e exige que Vermouth derrote o rei demônio]\n",
      "Speech synthesized for text [Ele agarra sua mão e jura, em nome de seu guerreiro, que todos os reis demônios serão massacrados]\n",
      "Speech synthesized for text [Camel sorri com certo arrependimento e faz as pazes com todos]\n",
      "Speech synthesized for text [Ele pede a Anis que ore por ele, diz a Camel que ele é o guerreiro mais bravo que existe e, ao se voltar para Seiya, nota que sempre gostou dela]\n",
      "Speech synthesized for text [E então corta para um moleque todo irritadinho]\n",
      "Speech synthesized for text [O garoto de cabelo branco e olhos amarelos, que diz nunca ter afirmado gostar de Seiya, acha isso pura ficção]\n",
      "Speech synthesized for text [Se ao menos o autor não fosse anônimo, ele poderia lhe ensinar uma lição ou duas]\n",
      "Speech synthesized for text [Ele pega o livro novamente e se pergunta por que todos têm títulos tão grandiosos como \"o sábio\" ou \"o grande\", enquanto ele era \"o tolo\"]\n",
      "Speech synthesized for text [Será que isso foi escrito por alguém que ele derrotou há 300 anos? O mesmo vale para seus companheiros, por que eles não fizeram nada a respeito deste livro? Mas é justo, considerando que eles nunca imaginariam que Camel, uma vez morto, reencarnaria assim, com todas as suas memórias intactas]\n",
      "Speech synthesized for text [Camel morreu no meio da subjugação dos reis demônios há 300 anos e reencarnou como um descendente de Vermouth]\n",
      "Speech synthesized for text [Agora ele atende por Eugene Lionhart e tem 13 anos]\n"
     ]
    },
    {
     "ename": "",
     "evalue": "",
     "output_type": "error",
     "traceback": [
      "\u001b[1;31mThe Kernel crashed while executing code in the the current cell or a previous cell. Please review the code in the cell(s) to identify a possible cause of the failure. Click <a href='https://aka.ms/vscodeJupyterKernelCrash'>here</a> for more info. View Jupyter <a href='command:jupyter.viewOutput'>log</a> for further details."
     ]
    }
   ],
   "source": [
    "audio_dir = os.path.join(audio_folder, str(folder_id))\n",
    "os.makedirs(audio_dir, exist_ok=True)\n",
    "\n",
    "for file_id, sentence in enumerate(sentences):\n",
    "    output_audio_name =  '{:03}_{:03}_{}'.format(folder_id, file_id, AUDIO_FILENAME)\n",
    "    output_audio_path = os.path.join(audio_dir, output_audio_name)\n",
    "    text_to_speech_and_save(SPEECH_KEY, SPEECH_REGION, SPEECH_VOICE, output_audio_path, sentence)"
   ]
  }
 ],
 "metadata": {
  "kernelspec": {
   "display_name": "venv-mhw",
   "language": "python",
   "name": "python3"
  },
  "language_info": {
   "codemirror_mode": {
    "name": "ipython",
    "version": 3
   },
   "file_extension": ".py",
   "mimetype": "text/x-python",
   "name": "python",
   "nbconvert_exporter": "python",
   "pygments_lexer": "ipython3",
   "version": "3.11.5"
  },
  "orig_nbformat": 4
 },
 "nbformat": 4,
 "nbformat_minor": 2
}
