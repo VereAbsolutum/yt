{
 "cells": [
  {
   "cell_type": "code",
   "execution_count": 1,
   "metadata": {},
   "outputs": [],
   "source": [
    "import os\n",
    "\n",
    "from openai import OpenAI\n",
    "from dotenv import dotenv_values\n",
    "from util import get_file\n",
    "from pathlib import Path\n",
    "from config.app import PROJECT_NAME,YOUTUBE_URL, MAX_TOKENS,MODEL,OPENAI_KEY, TRANSCRIPT_FOLDER,TRANSLATED_FOLDER,APP,TMP, TRANSLATED_PROCESSED_FOLDER\n",
    "\n",
    "# Transcript Folder\n",
    "transcript_folder = os.path.join(APP, PROJECT_NAME,TRANSCRIPT_FOLDER)\n",
    "\n",
    "# Translated Folder\n",
    "translated_folder = os.path.join(APP, PROJECT_NAME,TRANSLATED_FOLDER)\n",
    "os.makedirs(translated_folder, exist_ok=True)\n",
    "\n",
    "# Translated Processed Folder\n",
    "translated_processed_folder = os.path.join(TMP, PROJECT_NAME,TRANSLATED_PROCESSED_FOLDER)\n",
    "os.makedirs(translated_processed_folder, exist_ok=True)\n",
    "\n",
    "# Tmp Translated Folder\n",
    "tmp_translated_folder = os.path.join(TMP, PROJECT_NAME,TRANSLATED_FOLDER)\n"
   ]
  },
  {
   "cell_type": "code",
   "execution_count": 2,
   "metadata": {},
   "outputs": [
    {
     "data": {
      "text/plain": [
       "['Dentro do reino demoníaco, onde se ergue um imenso castelo, o guerreiro Vermouth e seus quatro companheiros invadem o castelo para subjugar os reis demônios',\n",
       " 'Já haviam derrotado três dos cinco reis demônios, mas restavam apenas dois',\n",
       " 'Uma horda de demônios os ataca, e Vermouth, com um único golpe de sua espada, abre caminho instantaneamente',\n",
       " 'Esse é o poder do grande Vermouth',\n",
       " 'Atrás dele, uma maga comenta que, contra tantos, ela pode definitivamente usar seus poderes',\n",
       " 'Ela o faz, e inúmeros elementos surgem do nada, limpando o caminho',\n",
       " 'Esta é Seiya, a sábia',\n",
       " 'Uma sacerdotisa tenta abençoar todos com sua magia sagrada, e é nesse momento que um demônio a ataca',\n",
       " 'Mas parece que ela não é tão indefesa',\n",
       " 'Anis, a fiel, o mais robusto do grupo, ataca com um gigantesco machado e, com apenas um balanço, dizima a maioria dos demônios em seu caminho, e uma chuva de sangue e partes de corpos o banha',\n",
       " 'Camel, o valente, o último do grupo e cheio de cicatrizes, exige que Vermouth pare de avançar e abre caminho entre os demônios',\n",
       " 'Este é Camel, o tolo',\n",
       " 'Ele sempre foi invejoso de Vermouth e o considerava seu rival, mas ninguém realmente reconhecia isso',\n",
       " 'Após limparem o local dos demônios menores, o grupo procura por pistas',\n",
       " 'É quando Camel percebe que Vermouth está em perigo e, no último segundo, salta à frente dele, recebendo o ataque que seria fatal',\n",
       " 'O demônio que atacou parece ser poderoso, e Camel cai, pois o ataque se provou fatal',\n",
       " 'O demônio então ataca Vermouth da mesma maneira, mas, agora preparado, ele desvia e, com um movimento ágil, o corta ao meio',\n",
       " 'O grupo corre para o lado de Camel, e Vermouth observa, notando que ele não precisava morrer assim',\n",
       " 'Camel diz que essa morte é honrosa e, até esse último momento, que se tornaria seu último, lamentou seu passado por não ter sido honesto com seus amigos',\n",
       " 'Camel estende a mão e exige que Vermouth derrote o rei demônio',\n",
       " 'Ele agarra sua mão e jura, em nome de seu guerreiro, que todos os reis demônios serão massacrados',\n",
       " 'Camel sorri com certo arrependimento e faz as pazes com todos',\n",
       " 'Ele pede a Anis que ore por ele, diz a Camel que ele é o guerreiro mais bravo que existe e, ao se voltar para Seiya, nota que sempre gostou dela',\n",
       " 'É então que descobrimos que essa era apenas uma história',\n",
       " 'Um garoto de cabelos cinzas e olhos amarelos, que diz nunca ter afirmado gostar de Seiya, acha isso pura ficção',\n",
       " 'Toda vez que lê esse livro absurdo, fica extremamente irritado',\n",
       " 'Se ao menos o autor não fosse anônimo, ele poderia lhe ensinar uma lição ou duas',\n",
       " 'Ele pega o livro novamente e se pergunta por que todos têm títulos tão grandiosos como \"o sábio\" ou \"o grande\", enquanto ele era \"o tolo\"',\n",
       " 'Será que isso foi escrito por alguém que ele derrotou há 300 anos? O mesmo vale para seus companheiros, por que eles não fizeram nada a respeito deste livro? Mas é justo, considerando que eles nunca imaginariam que Camel, uma vez morto, reencarnaria assim, com todas as suas memórias intactas',\n",
       " 'Camel morreu no meio da subjugação dos reis demônios há 300 anos e reencarnou como um descendente de Vermouth',\n",
       " 'Agora ele atende por Eugene Lionhart e tem 13 anos',\n",
       " 'Enquanto ainda estava vivo, Vermouth teve muitas concubinas, além de sua primeira esposa',\n",
       " 'Eugene acha isso estranho, pois Vermouth não era do tipo que corria atrás de mulheres sem necessidade',\n",
       " 'Será que ele mudou de ideia? Mas ele entende, afinal, todos têm suas necessidades',\n",
       " 'As únicas famílias consideradas descendentes diretos são as crianças da primeira esposa, mesmo com o mesmo sobrenome, que é Lionhart',\n",
       " 'A família de Eugene é considerada um ramo indireto',\n",
       " 'Esses tipos de famílias são proibidas de treinar sua mana e de usar espadas de verdade antes do ritual de sacrifício de sangue',\n",
       " 'Para um garoto de 13 anos, ele é bastante forte e pensa que hoje é a última vez que usa uma espada de madeira',\n",
       " 'Ele treina com sua espada e seus movimentos são extremamente rápidos',\n",
       " 'Pouco depois de começar a treinar, ele parte o boneco de treinamento ao meio',\n",
       " 'Seu pai observa isso com uma expressão assustada e nota que essa não é a primeira vez que ele quebra um desses',\n",
       " 'Eugene se vira para ele, e seu pai percebe o quão musculoso ele é, bastante intimidador para um garoto de 13 anos',\n",
       " 'Eugene pode ser seu filho, mas às vezes ele tem medo dele, pois ele não age ou fala como uma criança',\n",
       " 'Não há inocência naqueles olhos, e mesmo tendo perdido a mãe muito jovem, ele nunca sentiu falta dela',\n",
       " 'Eugene diz que o ferreiro desta cidade é uma porcaria e que vender lixo de baixa qualidade assim deveria ser considerado um crime e punido adequadamente',\n",
       " 'Seu pai tosse e diz que lhe dará um aviso, mas, falando em coisas a fazer, o ritual de sangue é amanhã',\n",
       " 'Eugene pensa que esse ritual de sangue deles é uma tradição estúpida dos Lionhart, realizada uma vez a cada 10 anos',\n",
       " 'Todas as crianças entre 10 e 15 anos, seja do ramo direto ou não, se reúnem na residência principal da família para o ritual',\n",
       " 'Lá, eles competem em uma espécie de prova para descobrir quem é realmente digno do sobrenome Lionhart',\n",
       " 'Mas os ramos principais têm uma vantagem, pois eles têm permissão para treinar com armas reais e mana desde jovens, então eles basicamente garantem que a família principal se saia melhor e que os ramos familiares permaneçam no seu nível',\n",
       " 'O pai olha para o boneco de treinamento e pensa que este filho dele tem tanto talento que ele não consegue imaginar que seja realmente seu filho e, se apenas ele tivesse nascido na família principal, tudo teria sido diferente',\n",
       " 'Eugene responde, dizendo que não importa onde ele nasceu; ele não vai deixar que esses tolos o derrotem',\n",
       " 'O pai sorri, dizendo que não esperava outra resposta dele',\n",
       " 'Eugene suspira, pois mesmo se ganhasse, não mudaria muita coisa',\n",
       " 'Ele ainda seria considerado um ramo familiar e continuaria a ser tratado como tal',\n",
       " 'Mas ele planeja usar isso a seu favor e fazer com que os Lionhart se arrependam por subestimá-lo',\n",
       " 'Ele olha para o horizonte, pensando que Vermouth o deixou com um nome e um sobrenome decentes, então ele vai fazer bom uso deles',\n",
       " 'Seu pai se pergunta o que ele está pensando, mas Eugene apenas sorri e diz que é hora de se preparar',\n",
       " '']"
      ]
     },
     "execution_count": 2,
     "metadata": {},
     "output_type": "execute_result"
    }
   ],
   "source": [
    "part = 0\n",
    "input_file = '{:03}_{}.md'.format(part, PROJECT_NAME)\n",
    "sentences = [s.strip() for s in get_file(tmp_translated_folder, input_file).replace('\\n', '').split('.')]\n",
    "sentences"
   ]
  },
  {
   "cell_type": "code",
   "execution_count": 3,
   "metadata": {},
   "outputs": [],
   "source": [
    "folder_id, filename = input_file.split('_')\n",
    "folder_path = os.path.join(translated_folder, str(int(folder_id)))\n",
    "os.makedirs(folder_path, exist_ok=True)"
   ]
  },
  {
   "cell_type": "code",
   "execution_count": 33,
   "metadata": {},
   "outputs": [
    {
     "name": "stdout",
     "output_type": "stream",
     "text": [
      "002_0000_Damn-Reincarnation.md\n",
      "002_0001_Damn-Reincarnation.md\n",
      "002_0002_Damn-Reincarnation.md\n",
      "002_0003_Damn-Reincarnation.md\n",
      "002_0004_Damn-Reincarnation.md\n",
      "002_0005_Damn-Reincarnation.md\n",
      "002_0006_Damn-Reincarnation.md\n",
      "002_0007_Damn-Reincarnation.md\n",
      "002_0008_Damn-Reincarnation.md\n",
      "002_0009_Damn-Reincarnation.md\n",
      "002_0010_Damn-Reincarnation.md\n",
      "002_0011_Damn-Reincarnation.md\n"
     ]
    },
    {
     "ename": "",
     "evalue": "",
     "output_type": "error",
     "traceback": [
      "\u001b[1;31mThe Kernel crashed while executing code in the the current cell or a previous cell. Please review the code in the cell(s) to identify a possible cause of the failure. Click <a href='https://aka.ms/vscodeJupyterKernelCrash'>here</a> for more info. View Jupyter <a href='command:jupyter.viewOutput'>log</a> for further details."
     ]
    }
   ],
   "source": [
    "for file_id, sentence in enumerate(sentences):\n",
    "    if not sentence:\n",
    "        continue\n",
    "    new_filename = '{:03}_{:04}_{}'.format(folder_id, file_id, filename)\n",
    "    filepath = os.path.join(folder_path, new_filename)\n",
    "    print(new_filename)\n",
    "    with open(filepath, 'w', encoding='utf-8') as f:\n",
    "        f.write(sentence)"
   ]
  }
 ],
 "metadata": {
  "kernelspec": {
   "display_name": "venv-mhw",
   "language": "python",
   "name": "python3"
  },
  "language_info": {
   "codemirror_mode": {
    "name": "ipython",
    "version": 3
   },
   "file_extension": ".py",
   "mimetype": "text/x-python",
   "name": "python",
   "nbconvert_exporter": "python",
   "pygments_lexer": "ipython3",
   "version": "3.11.5"
  },
  "orig_nbformat": 4
 },
 "nbformat": 4,
 "nbformat_minor": 2
}
