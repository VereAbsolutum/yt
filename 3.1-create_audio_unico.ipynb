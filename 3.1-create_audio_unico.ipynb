{
 "cells": [
  {
   "cell_type": "code",
   "execution_count": 1,
   "metadata": {},
   "outputs": [],
   "source": [
    "import os\n",
    "import glob\n",
    "\n",
    "from dotenv import dotenv_values\n",
    "from util import text_to_speech_and_save, get_file\n",
    "from config.app import APP, PROJECT_NAME, AUDIO_FOLDER, SPEECH_KEY, SPEECH_REGION, TRANSLATED_FOLDER, AUDIO_FILENAME, SPEECH_VOICE\n",
    "\n",
    "####\n",
    "audio_folder = os.path.join(APP, PROJECT_NAME, AUDIO_FOLDER)\n",
    "os.makedirs(audio_folder, exist_ok=True)\n",
    "\n",
    "FOLDER_ID = 998\n",
    "audio_dir = os.path.join(audio_folder, str(FOLDER_ID))\n",
    "os.makedirs(audio_dir, exist_ok=True)\n"
   ]
  },
  {
   "cell_type": "code",
   "execution_count": 12,
   "metadata": {},
   "outputs": [],
   "source": [
    "audio_filename = 'CTA2.wav'\n",
    "\n",
    "content = \"A Ariel está passando aqui para dizer que: se gostou deixe seu like, assim estaremos um passo mais próximo de nossa meta. Até mais.\""
   ]
  },
  {
   "cell_type": "code",
   "execution_count": 13,
   "metadata": {},
   "outputs": [
    {
     "name": "stdout",
     "output_type": "stream",
     "text": [
      "Speech synthesized for text [A Ariel está passando aqui para dizer que: se gostou deixe seu like, assim estaremos um passo mais próximo de nossa meta]\n",
      "Speech synthesized for text [ Até mais]\n",
      "Speech synthesized for text []\n"
     ]
    }
   ],
   "source": [
    "audio_dir = os.path.join(audio_folder, str(FOLDER_ID))\n",
    "os.makedirs(audio_dir, exist_ok=True)\n",
    "\n",
    "sentences = content.split('.')\n",
    "for file_id, sentence in enumerate(sentences):\n",
    "    output_audio_name =  '{:03}_{:03}_{}'.format(FOLDER_ID, file_id, audio_filename)\n",
    "    output_audio_path = os.path.join(audio_dir, output_audio_name)\n",
    "    text_to_speech_and_save(SPEECH_KEY, SPEECH_REGION, SPEECH_VOICE, output_audio_path, sentence)"
   ]
  }
 ],
 "metadata": {
  "kernelspec": {
   "display_name": "venv-mhw",
   "language": "python",
   "name": "python3"
  },
  "language_info": {
   "codemirror_mode": {
    "name": "ipython",
    "version": 3
   },
   "file_extension": ".py",
   "mimetype": "text/x-python",
   "name": "python",
   "nbconvert_exporter": "python",
   "pygments_lexer": "ipython3",
   "version": "3.11.5"
  },
  "orig_nbformat": 4
 },
 "nbformat": 4,
 "nbformat_minor": 2
}
