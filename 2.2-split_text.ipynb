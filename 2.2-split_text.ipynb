{
 "cells": [
  {
   "cell_type": "code",
   "execution_count": 16,
   "metadata": {},
   "outputs": [],
   "source": [
    "import os\n",
    "\n",
    "from openai import OpenAI\n",
    "from dotenv import dotenv_values\n",
    "from util import get_file\n",
    "from config.app import PROJECT_NAME,TRANSCRIPT_FOLDER,TRANSLATED_FOLDER,TRANSLATED_PROCESSED_FOLDER, APP,TMP\n",
    "\n",
    "# Transcript Folder\n",
    "transcript_folder = os.path.join(APP, PROJECT_NAME,TRANSCRIPT_FOLDER)\n",
    "\n",
    "# Translated Folder\n",
    "translated_folder = os.path.join(APP, PROJECT_NAME,TRANSLATED_FOLDER)\n",
    "os.makedirs(translated_folder, exist_ok=True)\n",
    "\n",
    "# Translated Processed Folder\n",
    "translated_processed_folder = os.path.join(TMP, PROJECT_NAME,TRANSLATED_PROCESSED_FOLDER)\n",
    "os.makedirs(translated_processed_folder, exist_ok=True)\n",
    "\n",
    "# Tmp Translated Folder\n",
    "tmp_translated_folder = os.path.join(TMP, PROJECT_NAME,TRANSLATED_FOLDER)"
   ]
  },
  {
   "cell_type": "code",
   "execution_count": 17,
   "metadata": {},
   "outputs": [
    {
     "data": {
      "text/plain": [
       "['Dentro do reino demoníaco, o guerreiro Vermouth e seus quatro companheiros invadem o castelo para subjugar os reis demônios',\n",
       " 'Eles já haviam derrotado três dos cinco reis demônios, mas ainda restavam dois',\n",
       " 'Uma horda de demônios os ataca, e Vermouth, com um único golpe de sua espada, abre caminho instantaneamente',\n",
       " 'Esse é o poder do grande Vermouth, o personagem mais fodão de todos, a gente sabe disso porque ele tem cabelo branco, e todo personagem de cabelo branco é foda',\n",
       " 'Atrás dele, uma maga comenta que ela pode definitivamente usar seus poderes',\n",
       " 'Ela o faz, e inúmeros elementos surgem do nada, limpando o caminho',\n",
       " 'Esta é Seiya, a sábia',\n",
       " 'Uma sacerdotisa tenta abençoar todos com sua magia sagrada, e é nesse momento que um demônio a ataca',\n",
       " 'Mas parece que ela não é tão indefesa assim galera, ela saca uma maça que tava no cinto dela e esmigalha a cabela do monstro, ela é Anis, a Fiel',\n",
       " 'O mais robusto do grupo, ataca com um gigantesco machado e, com apenas um balanço, dizima os monstros em seu caminho, e uma chuva de katchup de partes de corpos caem sobre ele, ele é Móron, o Bravo',\n",
       " 'o último do grupo e cheio de cicatrizes, passa correndo por Móron, ele exige que Vermouth pare de avançar e abre caminho entre os demônios cortando todos dando espadada para todo lado, Este é Camel, o tolo',\n",
       " 'E como já diziamos, Ele sempre teve inveja de Vermouth, o fodão de cabelo Branco, e o considerava seu rival, mas ninguém realmente reconhecia isso',\n",
       " 'Após limparem o local dos demônios menores, o grupo procura por pistas',\n",
       " 'É quando Camel percebe que Vermouth está em perigo e, no último segundo, salta à frente dele, recebendo o ataque que atravessa seu peito',\n",
       " 'O demônio que atacou parece ser poderoso, e Camel cai de cara no chão',\n",
       " 'O demônio então ataca Vermouth da mesma maneira, mas, agora preparado, ele desvia e, com um movimento ágil, o corta ao meio',\n",
       " 'O grupo corre para o lado de Camel, e Vermouth observa, notando que ele não precisava morrer assim',\n",
       " 'Camel diz que essa morte é honrosa e, até esse último momento, que se tornaria seu último, lamentou seu passado por não ter sido honesto com seus amigos',\n",
       " 'Camel estende a mão e exige que Vermouth derrote o rei demônio',\n",
       " 'Ele agarra sua mão e jura, em nome de seu guerreiro, que todos os reis demônios serão massacrados',\n",
       " 'Camel sorri com certo arrependimento e faz as pazes com todos',\n",
       " 'Ele pede a Anis que ore por ele, diz a Camel que ele é o guerreiro mais bravo que existe e, ao se voltar para Seiya, nota que sempre gostou dela',\n",
       " 'E então corta para um moleque todo irritadinho',\n",
       " 'O garoto de cabelo branco e olhos amarelos, que diz nunca ter afirmado gostar de Seiya, acha isso pura ficção',\n",
       " 'Se ao menos o autor não fosse anônimo, ele poderia lhe ensinar uma lição ou duas',\n",
       " 'Ele pega o livro novamente e se pergunta por que todos têm títulos tão grandiosos como \"o sábio\" ou \"o grande\", enquanto ele era \"o tolo\"',\n",
       " 'Será que isso foi escrito por alguém que ele derrotou há 300 anos? O mesmo vale para seus companheiros, por que eles não fizeram nada a respeito deste livro? Mas é justo, considerando que eles nunca imaginariam que Camel, uma vez morto, reencarnaria assim, com todas as suas memórias intactas',\n",
       " 'Camel morreu no meio da subjugação dos reis demônios há 300 anos e reencarnou como um descendente de Vermouth',\n",
       " 'Agora ele atende por Eugene Lionhart e tem 13 anos',\n",
       " '']"
      ]
     },
     "execution_count": 17,
     "metadata": {},
     "output_type": "execute_result"
    }
   ],
   "source": [
    "part = 0\n",
    "input_file = '{:03}_{}.md'.format(part, PROJECT_NAME)\n",
    "sentences = [s.strip() for s in get_file(tmp_translated_folder, input_file).replace('\\n', '').split('.')]\n",
    "sentences"
   ]
  },
  {
   "cell_type": "code",
   "execution_count": 18,
   "metadata": {},
   "outputs": [
    {
     "data": {
      "text/plain": [
       "'Dentro do reino demoníaco, o guerreiro Vermouth e seus quatro companheiros invadem o castelo para subjugar os reis demônios.\\n\\n Eles já haviam derrotado três dos cinco reis demônios, mas ainda restavam dois.\\n\\n Uma horda de demônios os ataca, e Vermouth, com um único golpe de sua espada, abre caminho instantaneamente.\\n\\n Esse é o poder do grande Vermouth, o personagem mais fodão de todos, a gente sabe disso porque ele tem cabelo branco, e todo personagem de cabelo branco é foda.\\n\\n  Atrás dele, uma maga comenta que ela pode definitivamente usar seus poderes.\\n\\n Ela o faz, e inúmeros elementos surgem do nada, limpando o caminho.\\n\\n Esta é Seiya, a sábia.\\n\\n Uma sacerdotisa tenta abençoar todos com sua magia sagrada, e é nesse momento que um demônio a ataca.\\n\\n Mas parece que ela não é tão indefesa assim galera, ela saca uma maça que tava no cinto dela e esmigalha a cabela do monstro, ela é Anis, a Fiel.\\n\\nO mais robusto do grupo, ataca com um gigantesco machado e, com apenas um balanço, dizima os monstros em seu caminho, e uma chuva de katchup de partes de corpos caem sobre ele, ele é Móron, o Bravo.\\n\\n o último do grupo e cheio de cicatrizes, passa correndo por Móron, ele exige que Vermouth pare de avançar e abre caminho entre os demônios cortando todos dando espadada para todo lado, Este é Camel, o tolo.\\n\\n E como já diziamos, Ele sempre teve inveja de Vermouth, o fodão de cabelo Branco, e o considerava seu rival, mas ninguém realmente reconhecia isso.\\n\\nApós limparem o local dos demônios menores, o grupo procura por pistas.\\n\\n É quando Camel percebe que Vermouth está em perigo e, no último segundo, salta à frente dele, recebendo o ataque que atravessa seu peito.\\n\\n O demônio que atacou parece ser poderoso, e Camel cai de cara no chão.\\n\\n O demônio então ataca Vermouth da mesma maneira, mas, agora preparado, ele desvia e, com um movimento ágil, o corta ao meio.\\n\\n O grupo corre para o lado de Camel, e Vermouth observa, notando que ele não precisava morrer assim.\\n\\n Camel diz que essa morte é honrosa e, até esse último momento, que se tornaria seu último, lamentou seu passado por não ter sido honesto com seus amigos.\\n\\n Camel estende a mão e exige que Vermouth derrote o rei demônio.\\n\\n Ele agarra sua mão e jura, em nome de seu guerreiro, que todos os reis demônios serão massacrados.\\n\\n Camel sorri com certo arrependimento e faz as pazes com todos.\\n\\n Ele pede a Anis que ore por ele, diz a Camel que ele é o guerreiro mais bravo que existe e, ao se voltar para Seiya, nota que sempre gostou dela.\\n\\n E então corta para um moleque todo irritadinho.\\n\\nO garoto de cabelo branco e olhos amarelos, que diz nunca ter afirmado gostar de Seiya, acha isso pura ficção.\\n\\n Se ao menos o autor não fosse anônimo, ele poderia lhe ensinar uma lição ou duas.\\n\\n Ele pega o livro novamente e se pergunta por que todos têm títulos tão grandiosos como \"o sábio\" ou \"o grande\", enquanto ele era \"o tolo\".\\n\\n Será que isso foi escrito por alguém que ele derrotou há 300 anos? O mesmo vale para seus companheiros, por que eles não fizeram nada a respeito deste livro? Mas é justo, considerando que eles nunca imaginariam que Camel, uma vez morto, reencarnaria assim, com todas as suas memórias intactas.\\n\\n Camel morreu no meio da subjugação dos reis demônios há 300 anos e reencarnou como um descendente de Vermouth.\\n\\n Agora ele atende por Eugene Lionhart e tem 13 anos.\\n\\n.'"
      ]
     },
     "execution_count": 18,
     "metadata": {},
     "output_type": "execute_result"
    }
   ],
   "source": [
    "folder_id, filename = input_file.split('_')\n",
    "folder_path = os.path.join(translated_folder, str(int(folder_id)))\n",
    "os.makedirs(folder_path, exist_ok=True)\n",
    "\n",
    "output_translated_filepath = os.path.join(tmp_translated_folder,input_file)\n",
    "input_translated = get_file(tmp_translated_folder,input_file).replace('\\n', '').split('.')\n",
    "input_translated\n",
    "content = '.\\n\\n'.join(input_translated) + '.'\n",
    "content"
   ]
  },
  {
   "cell_type": "code",
   "execution_count": 19,
   "metadata": {},
   "outputs": [],
   "source": [
    "with open(output_translated_filepath, 'w', encoding='utf-8') as f:\n",
    "    f.write(content)"
   ]
  },
  {
   "cell_type": "code",
   "execution_count": 20,
   "metadata": {},
   "outputs": [
    {
     "name": "stdout",
     "output_type": "stream",
     "text": [
      "000_0000_Damn-Reincarnation.md\n",
      "000_0001_Damn-Reincarnation.md\n",
      "000_0002_Damn-Reincarnation.md\n",
      "000_0003_Damn-Reincarnation.md\n",
      "000_0004_Damn-Reincarnation.md\n",
      "000_0005_Damn-Reincarnation.md\n",
      "000_0006_Damn-Reincarnation.md\n",
      "000_0007_Damn-Reincarnation.md\n",
      "000_0008_Damn-Reincarnation.md\n",
      "000_0009_Damn-Reincarnation.md\n",
      "000_0010_Damn-Reincarnation.md\n",
      "000_0011_Damn-Reincarnation.md\n",
      "000_0012_Damn-Reincarnation.md\n",
      "000_0013_Damn-Reincarnation.md\n",
      "000_0014_Damn-Reincarnation.md\n",
      "000_0015_Damn-Reincarnation.md\n",
      "000_0016_Damn-Reincarnation.md\n",
      "000_0017_Damn-Reincarnation.md\n",
      "000_0018_Damn-Reincarnation.md\n",
      "000_0019_Damn-Reincarnation.md\n",
      "000_0020_Damn-Reincarnation.md\n",
      "000_0021_Damn-Reincarnation.md\n",
      "000_0022_Damn-Reincarnation.md\n",
      "000_0023_Damn-Reincarnation.md\n",
      "000_0024_Damn-Reincarnation.md\n",
      "000_0025_Damn-Reincarnation.md\n",
      "000_0026_Damn-Reincarnation.md\n",
      "000_0027_Damn-Reincarnation.md\n",
      "000_0028_Damn-Reincarnation.md\n"
     ]
    },
    {
     "ename": "",
     "evalue": "",
     "output_type": "error",
     "traceback": [
      "\u001b[1;31mThe Kernel crashed while executing code in the the current cell or a previous cell. Please review the code in the cell(s) to identify a possible cause of the failure. Click <a href='https://aka.ms/vscodeJupyterKernelCrash'>here</a> for more info. View Jupyter <a href='command:jupyter.viewOutput'>log</a> for further details."
     ]
    }
   ],
   "source": [
    "for file_id, sentence in enumerate(sentences):\n",
    "    if not sentence:\n",
    "        continue\n",
    "    new_filename = '{:03}_{:04}_{}'.format(folder_id, file_id, filename)\n",
    "    filepath = os.path.join(folder_path, new_filename)\n",
    "    print(new_filename)\n",
    "    with open(filepath, 'w', encoding='utf-8') as f:\n",
    "        f.write(sentence)"
   ]
  }
 ],
 "metadata": {
  "kernelspec": {
   "display_name": "venv-mhw",
   "language": "python",
   "name": "python3"
  },
  "language_info": {
   "codemirror_mode": {
    "name": "ipython",
    "version": 3
   },
   "file_extension": ".py",
   "mimetype": "text/x-python",
   "name": "python",
   "nbconvert_exporter": "python",
   "pygments_lexer": "ipython3",
   "version": "3.11.5"
  },
  "orig_nbformat": 4
 },
 "nbformat": 4,
 "nbformat_minor": 2
}
